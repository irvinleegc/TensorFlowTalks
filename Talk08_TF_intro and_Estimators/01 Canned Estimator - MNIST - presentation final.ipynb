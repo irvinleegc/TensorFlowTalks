{
 "cells": [
  {
   "cell_type": "markdown",
   "metadata": {},
   "source": [
    "# Building a Canned DNN Estimator for MNIST"
   ]
  },
  {
   "cell_type": "code",
   "execution_count": 1,
   "metadata": {},
   "outputs": [
    {
     "name": "stderr",
     "output_type": "stream",
     "text": [
      "/home/samwit/anaconda3/envs/tf140-gpu/lib/python3.6/importlib/_bootstrap.py:205: RuntimeWarning: compiletime version 3.5 of module 'tensorflow.python.framework.fast_tensor_util' does not match runtime version 3.6\n",
      "  return f(*args, **kwds)\n"
     ]
    }
   ],
   "source": [
    "%matplotlib inline\n",
    "import matplotlib.pyplot as plt\n",
    "\n",
    "import os\n",
    "import numpy as np\n",
    "\n",
    "import tensorflow as tf"
   ]
  },
  {
   "cell_type": "code",
   "execution_count": 2,
   "metadata": {},
   "outputs": [
    {
     "name": "stdout",
     "output_type": "stream",
     "text": [
      "1.4.0\n"
     ]
    }
   ],
   "source": [
    "print(tf.__version__)"
   ]
  },
  {
   "cell_type": "code",
   "execution_count": 3,
   "metadata": {
    "collapsed": true
   },
   "outputs": [],
   "source": [
    "batch_size = 128\n",
    "learning_rate = 0.001"
   ]
  },
  {
   "cell_type": "markdown",
   "metadata": {},
   "source": [
    "## Dataset MNIST\n",
    "\n",
    "We are loading 70,000 pictures of hand written digits\n",
    "\n",
    "We are using 60k for our training set and 10k for our test set\n",
    "\n",
    "In the Canned Estimator we don't have to change our labels to One Hot Encoded\n",
    "\n",
    "\n"
   ]
  },
  {
   "cell_type": "code",
   "execution_count": 4,
   "metadata": {},
   "outputs": [
    {
     "name": "stdout",
     "output_type": "stream",
     "text": [
      "60000 train samples\n",
      "10000 test samples\n"
     ]
    }
   ],
   "source": [
    "# We'll use tf.keras to import our data\n",
    "(x_train, y_train), (x_test, y_test) = tf.keras.datasets.mnist.load_data()\n",
    "\n",
    "x_train = x_train.astype('float32')\n",
    "x_test = x_test.astype('float32')\n",
    "\n",
    "y_train = y_train.astype('int32')\n",
    "y_test = y_test.astype('int32')\n",
    "\n",
    "# Normalize the color values to 0-1\n",
    "# (as imported, they're 0-255)\n",
    "x_train /= 255\n",
    "x_test /= 255\n",
    "\n",
    "print(x_train.shape[0], 'train samples')\n",
    "print(x_test.shape[0], 'test samples')"
   ]
  },
  {
   "cell_type": "code",
   "execution_count": 5,
   "metadata": {},
   "outputs": [],
   "source": [
    "# Set up a ploting function \n",
    "\n",
    "fig_size = [10,10]\n",
    "plt.rcParams[\"figure.figsize\"] = fig_size\n",
    "\n",
    "def plot_images(images, labels_true, preds=None):\n",
    "\n",
    "    fig, axes = plt.subplots(5, 5)\n",
    "    fig.subplots_adjust(hspace=0.2, wspace=0.2)\n",
    "\n",
    "    for i, ax in enumerate(axes.flat):\n",
    "        # Plot image.\n",
    "        ax.imshow(images[i].reshape(28,28), cmap='binary')\n",
    "\n",
    "        # True vs predicted labels\n",
    "        if preds is None:\n",
    "            xlabel = \"True: {0}\".format(labels_true[i])\n",
    "        else:\n",
    "            xlabel = \"True: {0}, Pred: {1}\".format(labels_true[i], preds[i])\n",
    "\n",
    "        ax.set_xlabel(xlabel)\n",
    "        ax.set_xticks([])\n",
    "        ax.set_yticks([])\n",
    "    \n",
    "    # Draw the plot\n",
    "    plt.show()"
   ]
  },
  {
   "cell_type": "code",
   "execution_count": 6,
   "metadata": {},
   "outputs": [
    {
     "data": {
      "image/png": "[encoded data removed]",
      "text/plain": [
       "<matplotlib.figure.Figure at 0x7ff237479828>"
      ]
     },
     "metadata": {},
     "output_type": "display_data"
    }
   ],
   "source": [
    "plot_images(x_train[:25],y_train[:25])"
   ]
  },
  {
   "cell_type": "markdown",
   "metadata": {},
   "source": [
    "## Create input functions.\n",
    "\n",
    "We create an training input function for use in training and a test input function for evaluating the model on data it hasn't seen before"
   ]
  },
  {
   "cell_type": "code",
   "execution_count": 7,
   "metadata": {
    "collapsed": true
   },
   "outputs": [],
   "source": [
    "train_input = tf.estimator.inputs.numpy_input_fn(\n",
    "    {'x': x_train},\n",
    "    y_train, \n",
    "    num_epochs=None, # repeat forever we will use the steps to determine the number of iterations\n",
    "    shuffle=True # We shuffle for training batches\n",
    ")\n",
    "\n",
    "test_input = tf.estimator.inputs.numpy_input_fn(\n",
    "    {'x': x_test},\n",
    "    y_test,\n",
    "    num_epochs=1, # 1 epoch is enough as just predicting\n",
    "    shuffle=False # don't need to shuffle the test data as we are predicting\n",
    ")"
   ]
  },
  {
   "cell_type": "markdown",
   "metadata": {},
   "source": [
    "## Features"
   ]
  },
  {
   "cell_type": "code",
   "execution_count": 8,
   "metadata": {
    "collapsed": true
   },
   "outputs": [],
   "source": [
    "# define the features for our model\n",
    "\n",
    "# Set up a place holder for our pixel features\n",
    "pixel_features = tf.feature_column.numeric_column('x', shape=784)\n",
    "\n",
    "# we place our indvidual features into a list of features that we will pass into the estimator\n",
    "features = [pixel_features]"
   ]
  },
  {
   "cell_type": "markdown",
   "metadata": {},
   "source": [
    "## Our Canned DNN Classifier Estimator\n",
    "\n",
    "Here we are defining our Estimator and passing params such as th "
   ]
  },
  {
   "cell_type": "code",
   "execution_count": 9,
   "metadata": {},
   "outputs": [
    {
     "name": "stdout",
     "output_type": "stream",
     "text": [
      "INFO:tensorflow:Using default config.\n",
      "INFO:tensorflow:Using config: {'_model_dir': './graphs/canned/deep', '_tf_random_seed': None, '_save_summary_steps': 100, '_save_checkpoints_steps': None, '_save_checkpoints_secs': 600, '_session_config': None, '_keep_checkpoint_max': 5, '_keep_checkpoint_every_n_hours': 10000, '_log_step_count_steps': 100, '_service': None, '_cluster_spec': <tensorflow.python.training.server_lib.ClusterSpec object at 0x7ff2344103c8>, '_task_type': 'worker', '_task_id': 0, '_master': '', '_is_chief': True, '_num_ps_replicas': 0, '_num_worker_replicas': 1}\n"
     ]
    }
   ],
   "source": [
    "estimator = tf.estimator.DNNClassifier(\n",
    "    hidden_units=[256,100], # This is where we set the number of layers \n",
    "    feature_columns=features, \n",
    "    n_classes=10, # number \n",
    "    model_dir=\"./graphs/canned/deep\")"
   ]
  },
  {
   "cell_type": "markdown",
   "metadata": {},
   "source": [
    "## Start the training loop"
   ]
  },
  {
   "cell_type": "code",
   "execution_count": 10,
   "metadata": {},
   "outputs": [
    {
     "name": "stdout",
     "output_type": "stream",
     "text": [
      "INFO:tensorflow:Create CheckpointSaverHook.\n",
      "INFO:tensorflow:Restoring parameters from ./graphs/canned/deep/model.ckpt-2000\n",
      "INFO:tensorflow:Saving checkpoints for 2001 into ./graphs/canned/deep/model.ckpt.\n",
      "INFO:tensorflow:loss = 6.4674, step = 2001\n",
      "INFO:tensorflow:global_step/sec: 817.479\n",
      "INFO:tensorflow:loss = 7.26882, step = 2101 (0.123 sec)\n",
      "INFO:tensorflow:global_step/sec: 921.841\n",
      "INFO:tensorflow:loss = 0.745728, step = 2201 (0.108 sec)\n",
      "INFO:tensorflow:global_step/sec: 914.128\n",
      "INFO:tensorflow:loss = 2.61075, step = 2301 (0.109 sec)\n",
      "INFO:tensorflow:global_step/sec: 846.865\n",
      "INFO:tensorflow:loss = 3.90418, step = 2401 (0.118 sec)\n",
      "INFO:tensorflow:global_step/sec: 906.869\n",
      "INFO:tensorflow:loss = 5.86997, step = 2501 (0.110 sec)\n",
      "INFO:tensorflow:global_step/sec: 918.022\n",
      "INFO:tensorflow:loss = 2.33313, step = 2601 (0.109 sec)\n",
      "INFO:tensorflow:global_step/sec: 909.064\n",
      "INFO:tensorflow:loss = 0.776895, step = 2701 (0.110 sec)\n",
      "INFO:tensorflow:global_step/sec: 900.633\n",
      "INFO:tensorflow:loss = 3.14446, step = 2801 (0.111 sec)\n",
      "INFO:tensorflow:global_step/sec: 841.284\n",
      "INFO:tensorflow:loss = 1.68747, step = 2901 (0.119 sec)\n",
      "INFO:tensorflow:global_step/sec: 874.099\n",
      "INFO:tensorflow:loss = 0.742414, step = 3001 (0.114 sec)\n",
      "INFO:tensorflow:global_step/sec: 863.973\n",
      "INFO:tensorflow:loss = 3.1875, step = 3101 (0.116 sec)\n",
      "INFO:tensorflow:global_step/sec: 864.807\n",
      "INFO:tensorflow:loss = 1.77865, step = 3201 (0.116 sec)\n",
      "INFO:tensorflow:global_step/sec: 873.52\n",
      "INFO:tensorflow:loss = 1.80063, step = 3301 (0.114 sec)\n",
      "INFO:tensorflow:global_step/sec: 873.719\n",
      "INFO:tensorflow:loss = 2.12453, step = 3401 (0.114 sec)\n",
      "INFO:tensorflow:global_step/sec: 871.355\n",
      "INFO:tensorflow:loss = 4.49779, step = 3501 (0.115 sec)\n",
      "INFO:tensorflow:global_step/sec: 848.313\n",
      "INFO:tensorflow:loss = 1.98733, step = 3601 (0.117 sec)\n",
      "INFO:tensorflow:global_step/sec: 869.149\n",
      "INFO:tensorflow:loss = 1.52198, step = 3701 (0.115 sec)\n",
      "INFO:tensorflow:global_step/sec: 873.415\n",
      "INFO:tensorflow:loss = 3.45936, step = 3801 (0.114 sec)\n",
      "INFO:tensorflow:global_step/sec: 907.236\n",
      "INFO:tensorflow:loss = 0.644842, step = 3901 (0.110 sec)\n",
      "INFO:tensorflow:Saving checkpoints for 4000 into ./graphs/canned/deep/model.ckpt.\n",
      "INFO:tensorflow:Loss for final step: 0.544201.\n"
     ]
    },
    {
     "data": {
      "text/plain": [
       "<tensorflow.python.estimator.canned.dnn.DNNClassifier at 0x7ff234410048>"
      ]
     },
     "execution_count": 10,
     "metadata": {},
     "output_type": "execute_result"
    }
   ],
   "source": [
    "# I've arbitrarily decided to train for 2000 steps\n",
    "estimator.train(train_input, steps=2000)"
   ]
  },
  {
   "cell_type": "markdown",
   "metadata": {},
   "source": [
    "## Evaluate the model"
   ]
  },
  {
   "cell_type": "code",
   "execution_count": 11,
   "metadata": {},
   "outputs": [
    {
     "name": "stdout",
     "output_type": "stream",
     "text": [
      "INFO:tensorflow:Starting evaluation at 2017-11-21-02:48:56\n",
      "INFO:tensorflow:Restoring parameters from ./graphs/canned/deep/model.ckpt-4000\n",
      "INFO:tensorflow:Finished evaluation at 2017-11-21-02:48:57\n",
      "INFO:tensorflow:Saving dict for global step 4000: accuracy = 0.9775, average_loss = 0.081165, global_step = 4000, loss = 10.274\n"
     ]
    },
    {
     "data": {
      "text/plain": [
       "{'accuracy': 0.97750002,\n",
       " 'average_loss': 0.081164986,\n",
       " 'global_step': 4000,\n",
       " 'loss': 10.274049}"
      ]
     },
     "execution_count": 11,
     "metadata": {},
     "output_type": "execute_result"
    }
   ],
   "source": [
    "# Expect accuracy around 97%\n",
    "estimator.evaluate(input_fn=test_input)"
   ]
  },
  {
   "cell_type": "markdown",
   "metadata": {},
   "source": [
    "### Individual predictions"
   ]
  },
  {
   "cell_type": "code",
   "execution_count": 12,
   "metadata": {},
   "outputs": [
    {
     "name": "stdout",
     "output_type": "stream",
     "text": [
      "INFO:tensorflow:Restoring parameters from ./graphs/canned/deep/model.ckpt-4000\n",
      "Example 0. True: 7, Predicted: 7\n",
      "Example 1. True: 2, Predicted: 2\n",
      "Example 2. True: 1, Predicted: 1\n",
      "Example 3. True: 0, Predicted: 0\n",
      "Example 4. True: 4, Predicted: 4\n",
      "Example 5. True: 1, Predicted: 1\n",
      "Example 6. True: 4, Predicted: 4\n",
      "Example 7. True: 9, Predicted: 9\n",
      "Example 8. True: 5, Predicted: 5\n",
      "Example 9. True: 9, Predicted: 9\n"
     ]
    }
   ],
   "source": [
    "MAX_TO_PRINT = 10\n",
    "\n",
    "# This returns a generator object\n",
    "predictions = estimator.predict(input_fn=test_input)\n",
    "\n",
    "# we get the prdictions into a list\n",
    "preds = [pred['class_ids'] for pred in predictions]\n",
    "\n",
    "for i in range(MAX_TO_PRINT):\n",
    "    true_label = y_test[i]\n",
    "    pred = preds[i][0]\n",
    "    print(\"Example %d. True: %d, Predicted: %d\" % (i, true_label, pred))\n"
   ]
  },
  {
   "cell_type": "code",
   "execution_count": 13,
   "metadata": {},
   "outputs": [
    {
     "data": {
      "image/png": "[encoded data removed]",
      "text/plain": [
       "<matplotlib.figure.Figure at 0x7ff234fb59b0>"
      ]
     },
     "metadata": {},
     "output_type": "display_data"
    }
   ],
   "source": [
    "plot_images(x_test[:25],y_test[:25],preds[:25])"
   ]
  },
  {
   "cell_type": "code",
   "execution_count": null,
   "metadata": {
    "collapsed": true
   },
   "outputs": [],
   "source": []
  },
  {
   "cell_type": "code",
   "execution_count": 14,
   "metadata": {},
   "outputs": [
    {
     "name": "stdout",
     "output_type": "stream",
     "text": [
      "/home/samwit/anaconda3/envs/tf140-gpu/lib/python3.6/importlib/_bootstrap.py:205: RuntimeWarning: compiletime version 3.5 of module 'tensorflow.python.framework.fast_tensor_util' does not match runtime version 3.6\n",
      "  return f(*args, **kwds)\n",
      "TensorBoard 0.4.0rc3 at http://samwit-Z170X-UD5:6006 (Press CTRL+C to quit)\n",
      "\u001b[33mW1121 10:48:59.329255 Reloader tf_logging.py:86] Found more than one graph event per run, or there was a metagraph containing a graph_def, as well as one or more graph events.  Overwriting the graph with the newest event.\n",
      "\u001b[0m\u001b[33mW1121 10:48:59.329416 Reloader tf_logging.py:86] Found more than one metagraph event per run. Overwriting the metagraph with the newest event.\n",
      "\u001b[0m\u001b[33mW1121 10:48:59.343441 Reloader tf_logging.py:86] Found more than one graph event per run, or there was a metagraph containing a graph_def, as well as one or more graph events.  Overwriting the graph with the newest event.\n",
      "\u001b[0m\u001b[33mW1121 10:48:59.343616 Reloader tf_logging.py:86] Found more than one metagraph event per run. Overwriting the metagraph with the newest event.\n",
      "\u001b[0m\u001b[33mW1121 10:48:59.343741 Reloader tf_logging.py:86] Found more than one graph event per run, or there was a metagraph containing a graph_def, as well as one or more graph events.  Overwriting the graph with the newest event.\n",
      "\u001b[0m\u001b[33mW1121 10:48:59.343868 Reloader tf_logging.py:86] Found more than one metagraph event per run. Overwriting the metagraph with the newest event.\n",
      "\u001b[0m\u001b[33mW1121 10:48:59.358128 Reloader tf_logging.py:86] Found more than one graph event per run, or there was a metagraph containing a graph_def, as well as one or more graph events.  Overwriting the graph with the newest event.\n",
      "\u001b[0m\u001b[33mW1121 10:48:59.358277 Reloader tf_logging.py:86] Found more than one metagraph event per run. Overwriting the metagraph with the newest event.\n",
      "\u001b[0m^C\n"
     ]
    }
   ],
   "source": [
    "!tensorboard --logdir=graphs/canned/"
   ]
  },
  {
   "cell_type": "code",
   "execution_count": null,
   "metadata": {
    "collapsed": true
   },
   "outputs": [],
   "source": []
  }
 ],
 "metadata": {
  "kernelspec": {
   "display_name": "Python 3",
   "language": "python",
   "name": "python3"
  },
  "language_info": {
   "codemirror_mode": {
    "name": "ipython",
    "version": 3
   },
   "file_extension": ".py",
   "mimetype": "text/x-python",
   "name": "python",
   "nbconvert_exporter": "python",
   "pygments_lexer": "ipython3",
   "version": "3.6.1"
  }
 },
 "nbformat": 4,
 "nbformat_minor": 1
}
