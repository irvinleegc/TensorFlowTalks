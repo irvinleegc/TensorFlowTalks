{
 "cells": [
  {
   "cell_type": "markdown",
   "metadata": {},
   "source": [
    "# CoreML Tools Converter\n",
    "\n",
    "1. load a model into keras\n",
    "2. convert the model\n",
    "3. add meta data to the model\n",
    "4. export the model\n",
    "\n",
    "#### This has to be run in Python 2.7 and currently only supports TF 1.1\n"
   ]
  },
  {
   "cell_type": "code",
   "execution_count": 10,
   "metadata": {},
   "outputs": [],
   "source": [
    "import coremltools\n",
    "import keras\n",
    "import tensorflow as tf\n",
    "\n",
    "from keras.models import load_model"
   ]
  },
  {
   "cell_type": "code",
   "execution_count": 11,
   "metadata": {},
   "outputs": [
    {
     "name": "stdout",
     "output_type": "stream",
     "text": [
      "2.0.6\n",
      "1.1.0\n"
     ]
    }
   ],
   "source": [
    "print(keras.__version__)\n",
    "print(tf.__version__)\n",
    "#print(coremltools)\n"
   ]
  },
  {
   "cell_type": "markdown",
   "metadata": {},
   "source": [
    "### Setting path for loading the Keras model"
   ]
  },
  {
   "cell_type": "code",
   "execution_count": 12,
   "metadata": {
    "collapsed": true
   },
   "outputs": [],
   "source": [
    "model_name = 'satay_model_03.hd5'\n",
    "#model_name = 'satay_resnet_model_01.hd5'"
   ]
  },
  {
   "cell_type": "markdown",
   "metadata": {},
   "source": [
    "### Loading the model into Keras and checking its structure"
   ]
  },
  {
   "cell_type": "code",
   "execution_count": 13,
   "metadata": {},
   "outputs": [],
   "source": [
    "model = load_model(model_name)"
   ]
  },
  {
   "cell_type": "code",
   "execution_count": 14,
   "metadata": {},
   "outputs": [
    {
     "name": "stdout",
     "output_type": "stream",
     "text": [
      "_________________________________________________________________\n",
      "Layer (type)                 Output Shape              Param #   \n",
      "=================================================================\n",
      "input_1 (InputLayer)         (None, 229, 229, 3)       0         \n",
      "_________________________________________________________________\n",
      "block1_conv1 (Conv2D)        (None, 229, 229, 64)      1792      \n",
      "_________________________________________________________________\n",
      "block1_conv2 (Conv2D)        (None, 229, 229, 64)      36928     \n",
      "_________________________________________________________________\n",
      "block1_pool (MaxPooling2D)   (None, 114, 114, 64)      0         \n",
      "_________________________________________________________________\n",
      "block2_conv1 (Conv2D)        (None, 114, 114, 128)     73856     \n",
      "_________________________________________________________________\n",
      "block2_conv2 (Conv2D)        (None, 114, 114, 128)     147584    \n",
      "_________________________________________________________________\n",
      "block2_pool (MaxPooling2D)   (None, 57, 57, 128)       0         \n",
      "_________________________________________________________________\n",
      "block3_conv1 (Conv2D)        (None, 57, 57, 256)       295168    \n",
      "_________________________________________________________________\n",
      "block3_conv2 (Conv2D)        (None, 57, 57, 256)       590080    \n",
      "_________________________________________________________________\n",
      "block3_conv3 (Conv2D)        (None, 57, 57, 256)       590080    \n",
      "_________________________________________________________________\n",
      "block3_pool (MaxPooling2D)   (None, 28, 28, 256)       0         \n",
      "_________________________________________________________________\n",
      "block4_conv1 (Conv2D)        (None, 28, 28, 512)       1180160   \n",
      "_________________________________________________________________\n",
      "block4_conv2 (Conv2D)        (None, 28, 28, 512)       2359808   \n",
      "_________________________________________________________________\n",
      "block4_conv3 (Conv2D)        (None, 28, 28, 512)       2359808   \n",
      "_________________________________________________________________\n",
      "block4_pool (MaxPooling2D)   (None, 14, 14, 512)       0         \n",
      "_________________________________________________________________\n",
      "block5_conv1 (Conv2D)        (None, 14, 14, 512)       2359808   \n",
      "_________________________________________________________________\n",
      "block5_conv2 (Conv2D)        (None, 14, 14, 512)       2359808   \n",
      "_________________________________________________________________\n",
      "block5_conv3 (Conv2D)        (None, 14, 14, 512)       2359808   \n",
      "_________________________________________________________________\n",
      "block5_pool (MaxPooling2D)   (None, 7, 7, 512)         0         \n",
      "_________________________________________________________________\n",
      "flatten_1 (Flatten)          (None, 25088)             0         \n",
      "_________________________________________________________________\n",
      "dense_1 (Dense)              (None, 256)               6422784   \n",
      "_________________________________________________________________\n",
      "dropout_1 (Dropout)          (None, 256)               0         \n",
      "_________________________________________________________________\n",
      "dense_2 (Dense)              (None, 2)                 514       \n",
      "=================================================================\n",
      "Total params: 21,137,986\n",
      "Trainable params: 6,423,298\n",
      "Non-trainable params: 14,714,688\n",
      "_________________________________________________________________\n"
     ]
    }
   ],
   "source": [
    "model.summary()"
   ]
  },
  {
   "cell_type": "markdown",
   "metadata": {},
   "source": [
    "### Converting the Keras Model into a CoreML Model\n",
    "\n",
    "- model - the actual keras model  \n",
    "- input_names - what will show up as the input name in Xcode  \n",
    "- output_names - the output categories=['not_satay','satay']\n",
    "- is_bgr=False - RGB vs BGR  \n",
    "- class_labels = ['not_satay','satay']"
   ]
  },
  {
   "cell_type": "code",
   "execution_count": 15,
   "metadata": {},
   "outputs": [
    {
     "name": "stdout",
     "output_type": "stream",
     "text": [
      "Output name length mismatch\n",
      "0 : input_1, <keras.engine.topology.InputLayer object at 0x13becf4d0>\n",
      "1 : block1_conv1, <keras.layers.convolutional.Conv2D object at 0x13bdddb50>\n",
      "2 : block1_conv1__activation__, <keras.layers.core.Activation object at 0x138717950>\n",
      "3 : block1_conv2, <keras.layers.convolutional.Conv2D object at 0x13bcc0e90>\n",
      "4 : block1_conv2__activation__, <keras.layers.core.Activation object at 0x12621b790>\n",
      "5 : block1_pool, <keras.layers.pooling.MaxPooling2D object at 0x142680f10>\n",
      "6 : block2_conv1, <keras.layers.convolutional.Conv2D object at 0x13be20e50>\n",
      "7 : block2_conv1__activation__, <keras.layers.core.Activation object at 0x12621b850>\n",
      "8 : block2_conv2, <keras.layers.convolutional.Conv2D object at 0x142724250>\n",
      "9 : block2_conv2__activation__, <keras.layers.core.Activation object at 0x12621bbd0>\n",
      "10 : block2_pool, <keras.layers.pooling.MaxPooling2D object at 0x142714c50>\n",
      "11 : block3_conv1, <keras.layers.convolutional.Conv2D object at 0x142740890>\n",
      "12 : block3_conv1__activation__, <keras.layers.core.Activation object at 0x12621bc90>\n",
      "13 : block3_conv2, <keras.layers.convolutional.Conv2D object at 0x1085bf290>\n",
      "14 : block3_conv2__activation__, <keras.layers.core.Activation object at 0x12621bc50>\n",
      "15 : block3_conv3, <keras.layers.convolutional.Conv2D object at 0x14881b950>\n",
      "16 : block3_conv3__activation__, <keras.layers.core.Activation object at 0x12621bad0>\n",
      "17 : block3_pool, <keras.layers.pooling.MaxPooling2D object at 0x1490fcbd0>\n",
      "18 : block4_conv1, <keras.layers.convolutional.Conv2D object at 0x14880b650>\n",
      "19 : block4_conv1__activation__, <keras.layers.core.Activation object at 0x12621b890>\n",
      "20 : block4_conv2, <keras.layers.convolutional.Conv2D object at 0x1489a8dd0>\n",
      "21 : block4_conv2__activation__, <keras.layers.core.Activation object at 0x12621be10>\n",
      "22 : block4_conv3, <keras.layers.convolutional.Conv2D object at 0x149006250>\n",
      "23 : block4_conv3__activation__, <keras.layers.core.Activation object at 0x12621bdd0>\n",
      "24 : block4_pool, <keras.layers.pooling.MaxPooling2D object at 0x149060910>\n",
      "25 : block5_conv1, <keras.layers.convolutional.Conv2D object at 0x14906e9d0>\n",
      "26 : block5_conv1__activation__, <keras.layers.core.Activation object at 0x12621bed0>\n",
      "27 : block5_conv2, <keras.layers.convolutional.Conv2D object at 0x14908b510>\n",
      "28 : block5_conv2__activation__, <keras.layers.core.Activation object at 0x12621bf10>\n",
      "29 : block5_conv3, <keras.layers.convolutional.Conv2D object at 0x1491fa150>\n",
      "30 : block5_conv3__activation__, <keras.layers.core.Activation object at 0x12621bd50>\n",
      "31 : block5_pool, <keras.layers.pooling.MaxPooling2D object at 0x1492578d0>\n",
      "32 : flatten_1, <keras.layers.core.Flatten object at 0x1491ed690>\n",
      "33 : dense_1, <keras.layers.core.Dense object at 0x149236f90>\n",
      "34 : dense_1__activation__, <keras.layers.core.Activation object at 0x12621bb10>\n",
      "35 : dense_2, <keras.layers.core.Dense object at 0x13bdddc90>\n",
      "36 : dense_2__activation__, <keras.layers.core.Activation object at 0x12621bb50>\n"
     ]
    }
   ],
   "source": [
    "coreml_model = coremltools.converters.keras.convert(model, input_names=\"image\", output_names=['not_satay','satay'], image_input_names = 'image', is_bgr=False, class_labels = ['not_satay','satay'])\n"
   ]
  },
  {
   "cell_type": "markdown",
   "metadata": {},
   "source": [
    "#### Adding the meta data"
   ]
  },
  {
   "cell_type": "code",
   "execution_count": 16,
   "metadata": {
    "collapsed": true
   },
   "outputs": [],
   "source": [
    "# Set model metadata\n",
    "coreml_model.author = 'Sam Witteveen'\n",
    "coreml_model.license = 'BSD'\n",
    "coreml_model.short_description = 'Resnet Satay not Satay model built using transfer learning'"
   ]
  },
  {
   "cell_type": "code",
   "execution_count": 19,
   "metadata": {},
   "outputs": [
    {
     "data": {
      "text/plain": [
       "input {\n",
       "  name: \"image\"\n",
       "  type {\n",
       "    imageType {\n",
       "      width: 229\n",
       "      height: 229\n",
       "      colorSpace: RGB\n",
       "    }\n",
       "  }\n",
       "}\n",
       "output {\n",
       "  name: \"not_satay\"\n",
       "  type {\n",
       "    dictionaryType {\n",
       "      stringKeyType {\n",
       "      }\n",
       "    }\n",
       "  }\n",
       "}\n",
       "output {\n",
       "  name: \"classLabel\"\n",
       "  type {\n",
       "    stringType {\n",
       "    }\n",
       "  }\n",
       "}\n",
       "predictedFeatureName: \"classLabel\"\n",
       "predictedProbabilitiesName: \"not_satay\"\n",
       "metadata {\n",
       "  shortDescription: \"Resnet Satay not Satay model built using transfer learning\"\n",
       "  author: \"Sam Witteveen\"\n",
       "  license: \"BSD\"\n",
       "}"
      ]
     },
     "execution_count": 19,
     "metadata": {},
     "output_type": "execute_result"
    }
   ],
   "source": [
    "coreml_model"
   ]
  },
  {
   "cell_type": "markdown",
   "metadata": {},
   "source": [
    "#### Prediction is only available on Sierra High 10.13"
   ]
  },
  {
   "cell_type": "code",
   "execution_count": 18,
   "metadata": {
    "collapsed": true
   },
   "outputs": [],
   "source": [
    "#from PIL import Image\n",
    "\n",
    "#pic = Image.open('satay.jpg')\n",
    "\n",
    "#pic.show()"
   ]
  },
  {
   "cell_type": "code",
   "execution_count": 30,
   "metadata": {},
   "outputs": [],
   "source": [
    "#coreml_model.predict({'image':pic})"
   ]
  },
  {
   "cell_type": "code",
   "execution_count": null,
   "metadata": {},
   "outputs": [],
   "source": []
  },
  {
   "cell_type": "code",
   "execution_count": null,
   "metadata": {
    "collapsed": true
   },
   "outputs": [],
   "source": []
  },
  {
   "cell_type": "markdown",
   "metadata": {},
   "source": [
    "#### Save the CoreML Model"
   ]
  },
  {
   "cell_type": "code",
   "execution_count": 9,
   "metadata": {
    "collapsed": true
   },
   "outputs": [],
   "source": [
    "# Save the model\n",
    "coreml_model.save('satay_resnet_01.mlmodel')"
   ]
  },
  {
   "cell_type": "code",
   "execution_count": null,
   "metadata": {
    "collapsed": true
   },
   "outputs": [],
   "source": [
    "loaded_model = MLModel('satay_resnet_01.mlmodel')"
   ]
  }
 ],
 "metadata": {
  "kernelspec": {
   "display_name": "Python 2",
   "language": "python",
   "name": "python2"
  },
  "language_info": {
   "codemirror_mode": {
    "name": "ipython",
    "version": 2
   },
   "file_extension": ".py",
   "mimetype": "text/x-python",
   "name": "python",
   "nbconvert_exporter": "python",
   "pygments_lexer": "ipython2",
   "version": "2.7.13"
  }
 },
 "nbformat": 4,
 "nbformat_minor": 2
}
